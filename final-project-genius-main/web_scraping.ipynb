{
 "cells": [
  {
   "cell_type": "markdown",
   "id": "4bbedbe0",
   "metadata": {},
   "source": [
    "## Web Scraping TripAdvisor & Population Density data\n",
    "TripAdvisor: https://www.tripadvisor.com/Attractions-g30196-Activities-c  \n",
    "Population Density: http://zipatlas.com/us/tx/austin/zip-code-comparison/population-density.htm  \n",
    "   \n",
    "We want to proveide more objective features for the restaurant data. So we web scrapping these two websites by the zip code. "
   ]
  },
  {
   "cell_type": "code",
   "execution_count": 1,
   "id": "229e538c",
   "metadata": {},
   "outputs": [],
   "source": [
    "import requests                 \n",
    "from bs4 import BeautifulSoup\n",
    "import pandas as pd\n",
    "import json\n",
    "import re\n",
    "import numpy as np\n",
    "from collections import Counter\n",
    "import csv"
   ]
  },
  {
   "cell_type": "markdown",
   "id": "1d8df7ca",
   "metadata": {},
   "source": [
    "### TripAdvisor\n",
    "These are the attractions we focus on in TripAdvisor.com  \n",
    "\n",
    "Nature & Parks in Austin:\n",
    "https://www.tripadvisor.com/Attractions-g30196-Activities-c57-Austin_Texas.html  \n",
    "Museums:\n",
    "https://www.tripadvisor.com/Attractions-g30196-Activities-c49-Austin_Texas.html  \n",
    "Shopping:\n",
    "https://www.tripadvisor.com/Attractions-g30196-Activities-c26-Austin_Texas.html  \n",
    "Landmarks:\n",
    "https://www.tripadvisor.com/Attractions-g30196-Activities-c47-Austin_Texas.html  \n"
   ]
  },
  {
   "cell_type": "code",
   "execution_count": 2,
   "id": "4564755b",
   "metadata": {},
   "outputs": [],
   "source": [
    "full_pages = []"
   ]
  },
  {
   "cell_type": "code",
   "execution_count": 3,
   "id": "7a284a7f",
   "metadata": {},
   "outputs": [],
   "source": [
    "# get all the links which list the attractions that we are interested in\n",
    "def get_all_pages(full_pages,index,max_num):\n",
    "    # add all the pages under one link\n",
    "    pages_numbers= np.arange(0, max_num, 30).tolist()\n",
    "    # generate a list of all links\n",
    "    for p in pages_numbers: \n",
    "        base_url = \"https://www.tripadvisor.com/Attractions-g30196-Activities-c\"\n",
    "        page = (base_url + str(index) + \"-oa\" + str(p) + \"-Austin_Texas.html\") \n",
    "        full_pages.append(page)"
   ]
  },
  {
   "cell_type": "code",
   "execution_count": 4,
   "id": "b98a4830",
   "metadata": {},
   "outputs": [],
   "source": [
    "get_all_pages(full_pages,49,63)"
   ]
  },
  {
   "cell_type": "code",
   "execution_count": 5,
   "id": "74b35e04",
   "metadata": {},
   "outputs": [],
   "source": [
    "get_all_pages(full_pages,26,150)"
   ]
  },
  {
   "cell_type": "code",
   "execution_count": 6,
   "id": "652d4e66",
   "metadata": {},
   "outputs": [],
   "source": [
    "get_all_pages(full_pages,47,97)"
   ]
  },
  {
   "cell_type": "code",
   "execution_count": 7,
   "id": "dd15514a",
   "metadata": {},
   "outputs": [
    {
     "data": {
      "text/plain": [
       "['https://www.tripadvisor.com/Attractions-g30196-Activities-c49-oa0-Austin_Texas.html',\n",
       " 'https://www.tripadvisor.com/Attractions-g30196-Activities-c49-oa30-Austin_Texas.html',\n",
       " 'https://www.tripadvisor.com/Attractions-g30196-Activities-c49-oa60-Austin_Texas.html',\n",
       " 'https://www.tripadvisor.com/Attractions-g30196-Activities-c26-oa0-Austin_Texas.html',\n",
       " 'https://www.tripadvisor.com/Attractions-g30196-Activities-c26-oa30-Austin_Texas.html',\n",
       " 'https://www.tripadvisor.com/Attractions-g30196-Activities-c26-oa60-Austin_Texas.html',\n",
       " 'https://www.tripadvisor.com/Attractions-g30196-Activities-c26-oa90-Austin_Texas.html',\n",
       " 'https://www.tripadvisor.com/Attractions-g30196-Activities-c26-oa120-Austin_Texas.html',\n",
       " 'https://www.tripadvisor.com/Attractions-g30196-Activities-c47-oa0-Austin_Texas.html',\n",
       " 'https://www.tripadvisor.com/Attractions-g30196-Activities-c47-oa30-Austin_Texas.html',\n",
       " 'https://www.tripadvisor.com/Attractions-g30196-Activities-c47-oa60-Austin_Texas.html',\n",
       " 'https://www.tripadvisor.com/Attractions-g30196-Activities-c47-oa90-Austin_Texas.html',\n",
       " 'https://www.tripadvisor.com/Attractions-g30196-Activities-c57-oa0-Austin_Texas.html',\n",
       " 'https://www.tripadvisor.com/Attractions-g30196-Activities-c57-oa30-Austin_Texas.html',\n",
       " 'https://www.tripadvisor.com/Attractions-g30196-Activities-c57-oa60-Austin_Texas.html']"
      ]
     },
     "execution_count": 7,
     "metadata": {},
     "output_type": "execute_result"
    }
   ],
   "source": [
    "get_all_pages(full_pages,57,82)\n",
    "full_pages"
   ]
  },
  {
   "cell_type": "code",
   "execution_count": 8,
   "id": "3fda5782",
   "metadata": {},
   "outputs": [
    {
     "data": {
      "text/plain": [
       "391"
      ]
     },
     "execution_count": 8,
     "metadata": {},
     "output_type": "execute_result"
    }
   ],
   "source": [
    "# get the sub link of all the attractions\n",
    "# we can find the zip code in the sub link.(next step)\n",
    "sub_lst=[]\n",
    "for link in full_pages:\n",
    "    response = requests.get(link, headers={'User-Agent': \"serana/1.0\"})\n",
    "    soup = BeautifulSoup(response.text, \"html5lib\")\n",
    "    sublinks = soup.find_all('a', {'class': \"FmrIP _R w _Z P0 M0 Gm ddFHE\"})\n",
    "    for u in sublinks:\n",
    "        if u.has_attr('href'):\n",
    "            sub_lst.append(\"https://www.tripadvisor.com\"+u['href'])\n",
    "len(sub_lst)"
   ]
  },
  {
   "cell_type": "code",
   "execution_count": 9,
   "id": "4f9e0d42",
   "metadata": {},
   "outputs": [
    {
     "data": {
      "text/plain": [
       "Counter({'78705': 17,\n",
       "         '78701': 70,\n",
       "         '78723': 10,\n",
       "         '78712': 13,\n",
       "         '78703': 24,\n",
       "         '78704': 51,\n",
       "         '78751': 10,\n",
       "         '78754': 2,\n",
       "         '78702': 26,\n",
       "         '78759': 11,\n",
       "         '78744': 6,\n",
       "         '78746': 19,\n",
       "         '78753': 3,\n",
       "         '78758': 6,\n",
       "         '78757': 6,\n",
       "         '78756': 12,\n",
       "         '78731': 11,\n",
       "         '78721': 4,\n",
       "         '78748': 2,\n",
       "         '78752': 6,\n",
       "         '78724': 3,\n",
       "         '78719': 10,\n",
       "         '78745': 10,\n",
       "         '78741': 2,\n",
       "         '78722': 1,\n",
       "         '78737': 6,\n",
       "         '78734': 1,\n",
       "         '78732': 5,\n",
       "         '78617': 2,\n",
       "         '78738': 1,\n",
       "         '78739': 1,\n",
       "         '78750': 3,\n",
       "         '78736': 1,\n",
       "         '78663': 1,\n",
       "         '78730': 4,\n",
       "         '78733': 1,\n",
       "         '78725': 1,\n",
       "         '78798': 1,\n",
       "         '78749': 2,\n",
       "         '78735': 2,\n",
       "         '78726': 2,\n",
       "         '78729': 1,\n",
       "         '78717': 1})"
      ]
     },
     "execution_count": 9,
     "metadata": {},
     "output_type": "execute_result"
    }
   ],
   "source": [
    "# use the regular expression to extract the zip code in the above sub link \n",
    "zipcode_lst=[]\n",
    "for u in sub_lst:\n",
    "    response = requests.get(u, headers={'User-Agent': \"serana/2.0\"})\n",
    "    soup = BeautifulSoup(response.text, \"html5lib\")\n",
    "    text = soup.find_all('script', {'type':\"application/ld+json\"})\n",
    "    descript=re.findall(r'\"postalCode\":[\"][0-9][0-9][0-9][0-9][0-9]', str(text))\n",
    "    zipcode=re.findall(r'[0-9][0-9][0-9][0-9][0-9]', str(descript))\n",
    "    zipcode_lst.extend(zipcode)\n",
    "\n",
    "# show the number of attractions in the neighborhood of each zip code\n",
    "Counter(zipcode_lst)"
   ]
  },
  {
   "cell_type": "code",
   "execution_count": 10,
   "id": "6af6ce2e",
   "metadata": {},
   "outputs": [],
   "source": [
    "attractions_dic=dict(Counter(zipcode_lst))"
   ]
  },
  {
   "cell_type": "code",
   "execution_count": 11,
   "id": "9c7312b2",
   "metadata": {},
   "outputs": [],
   "source": [
    "# write the number of attraction into csv \n",
    "with open(\"num_attractions.csv\", 'w') as f:  \n",
    "    writer = csv.writer(f)\n",
    "    for k, v in attractions_dic.items():\n",
    "        writer.writerow([k, v])"
   ]
  },
  {
   "cell_type": "markdown",
   "id": "9b210b5b",
   "metadata": {},
   "source": [
    "### Population Density"
   ]
  },
  {
   "cell_type": "code",
   "execution_count": 2,
   "id": "8ec94d15",
   "metadata": {},
   "outputs": [],
   "source": [
    "# get the zipatlas page of population density\n",
    "url = \"http://zipatlas.com/us/tx/austin/zip-code-comparison/population-density.htm\""
   ]
  },
  {
   "cell_type": "code",
   "execution_count": 3,
   "id": "3c7abeb2",
   "metadata": {},
   "outputs": [],
   "source": [
    "response = requests.get(url)\n",
    "page = requests.get(url)\n",
    "soup = BeautifulSoup(page.content, \"html.parser\")\n",
    "results = soup.find('table', rules = \"all\")"
   ]
  },
  {
   "cell_type": "code",
   "execution_count": 4,
   "id": "d336d6bb",
   "metadata": {},
   "outputs": [
    {
     "data": {
      "text/plain": [
       "['#',\n",
       " 'Zip Code',\n",
       " 'Location',\n",
       " 'City',\n",
       " 'Population',\n",
       " 'People / Sq. Mile',\n",
       " 'National Rank']"
      ]
     },
     "execution_count": 4,
     "metadata": {},
     "output_type": "execute_result"
    }
   ],
   "source": [
    "headers = []\n",
    "for i in results.find_all('td', class_ = \"report_header\"):\n",
    "    title = i.text\n",
    "    headers.append(title)\n",
    "headers"
   ]
  },
  {
   "cell_type": "code",
   "execution_count": 5,
   "id": "fa0c1c8c",
   "metadata": {},
   "outputs": [],
   "source": [
    "# get the zip code list\n",
    "zip_code = []\n",
    "for i in results.find_all('td', class_ = \"report_data\", align = \"center\"):\n",
    "    row_data = i.find_all('a')\n",
    "    for i in row_data:\n",
    "        row = i.text\n",
    "        zip_code.append(row)"
   ]
  },
  {
   "cell_type": "code",
   "execution_count": 6,
   "id": "500d7406",
   "metadata": {},
   "outputs": [],
   "source": [
    "# get the population density list\n",
    "population_density = []\n",
    "for i in results.find_all('td', class_ = \"report_data\", align = \"right\"):\n",
    "    row_data = i.find_all('b')\n",
    "    for i in row_data:\n",
    "        row = i.text\n",
    "        population_density.append(row)"
   ]
  },
  {
   "cell_type": "code",
   "execution_count": 7,
   "id": "72e0cb05",
   "metadata": {},
   "outputs": [],
   "source": [
    "# get the city list\n",
    "city = []\n",
    "for i in results.find_all('td', class_ = \"report_data\", align = \"left\"):\n",
    "    row_data = i.text\n",
    "    city.append(row_data)"
   ]
  },
  {
   "cell_type": "code",
   "execution_count": 8,
   "id": "7391e0a6",
   "metadata": {},
   "outputs": [],
   "source": [
    "# get other information\n",
    "index = []\n",
    "location = []\n",
    "mark = '#'\n",
    "rank = []\n",
    "population = []\n",
    "for i in results.find_all('td', class_ = \"report_data\", align = \"right\"):\n",
    "    row_data = i.text\n",
    "    if row_data not in population_density:\n",
    "        if len(row_data) == 2 or (len(row_data) == 3 and row_data!= '625'):\n",
    "            index.append(row_data)\n",
    "        elif len(row_data) == 21:\n",
    "            location.append(row_data)\n",
    "        elif mark in row_data:\n",
    "            rank.append(row_data)\n",
    "        elif row_data not in index and row_data not in location and row_data not in rank:\n",
    "            population.append(row_data)"
   ]
  },
  {
   "cell_type": "code",
   "execution_count": 9,
   "id": "85f8e1ed",
   "metadata": {},
   "outputs": [],
   "source": [
    "# save the population density data in csv\n",
    "rows = zip(index, zip_code, location, city, population, population_density, rank)\n",
    "with open('population_density.csv','w',newline='') as f:\n",
    "    writer = csv.writer(f)\n",
    "    writer.writerow(headers)\n",
    "    writer.writerows(rows)"
   ]
  },
  {
   "cell_type": "code",
   "execution_count": null,
   "id": "0c9e023f",
   "metadata": {},
   "outputs": [],
   "source": []
  }
 ],
 "metadata": {
  "kernelspec": {
   "display_name": "Python 3",
   "language": "python",
   "name": "python3"
  },
  "language_info": {
   "codemirror_mode": {
    "name": "ipython",
    "version": 3
   },
   "file_extension": ".py",
   "mimetype": "text/x-python",
   "name": "python",
   "nbconvert_exporter": "python",
   "pygments_lexer": "ipython3",
   "version": "3.8.8"
  }
 },
 "nbformat": 4,
 "nbformat_minor": 5
}
